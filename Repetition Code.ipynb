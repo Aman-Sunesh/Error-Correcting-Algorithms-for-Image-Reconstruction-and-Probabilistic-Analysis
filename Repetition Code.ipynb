{
 "cells": [
  {
   "cell_type": "code",
   "execution_count": 49,
   "metadata": {},
   "outputs": [],
   "source": [
    "import numpy as np\n",
    "from PIL import Image\n",
    "from collections import Counter"
   ]
  },
  {
   "cell_type": "code",
   "execution_count": 50,
   "metadata": {},
   "outputs": [],
   "source": [
    "img_name = input(\"Enter Image Name with extension: \")\n",
    "original_image_array = np.array(Image.open(img_name))\n",
    "height, width, channels = original_image_array.shape"
   ]
  },
  {
   "cell_type": "code",
   "execution_count": 51,
   "metadata": {},
   "outputs": [],
   "source": [
    "# Creating separate images for R, G, B channels\n",
    "Red_Image = np.stack([original_image_array[:,:,0]]*3, axis=-1)\n",
    "Green_Image = np.stack([original_image_array[:,:,1]]*3, axis=-1)\n",
    "Blue_Image = np.stack([original_image_array[:,:,2]]*3, axis=-1)\n",
    "\n",
    "# Convert arrays to images, and save or display\n",
    "red_img = Image.fromarray(Red_Image)\n",
    "green_img = Image.fromarray(Green_Image)\n",
    "blue_img = Image.fromarray(Blue_Image)\n",
    "\n",
    "# Display the images\n",
    "red_img.show()\n",
    "green_img.show()\n",
    "blue_img.show()\n",
    "\n",
    "# Save the images\n",
    "red_img.save('Red_Image.png')\n",
    "green_img.save('Green_Image.png')\n",
    "blue_img.save('Blue_Image.png')"
   ]
  },
  {
   "cell_type": "code",
   "execution_count": 52,
   "metadata": {},
   "outputs": [],
   "source": [
    "red_with_noise = np.array(Image.open(\"Red_Image_With_Noise.png\"))\n",
    "green_with_noise = np.array(Image.open(\"Green_Image_With_Noise.png\"))\n",
    "blue_with_noise = np.array(Image.open(\"Blue_Image_With_Noise.png\"))"
   ]
  },
  {
   "cell_type": "code",
   "execution_count": 53,
   "metadata": {},
   "outputs": [],
   "source": [
    "def convert_to_binary(image_array):\n",
    "    # Get dimensions\n",
    "    height, width, _ = image_array.shape\n",
    "    \n",
    "    # Initialize binary image array\n",
    "    binary_image = np.zeros((height, width, 3), dtype='U8')\n",
    "\n",
    "    # Convert each RGB value to a binary string\n",
    "    for i in range(height):\n",
    "        for j in range(width):\n",
    "            binary_image[i, j, 0] = format(image_array[i, j, 0], '08b')  # Channel 1\n",
    "            binary_image[i, j, 1] = format(image_array[i, j, 1], '08b')  # Channel 2\n",
    "            binary_image[i, j, 2] = format(image_array[i, j, 2], '08b')  # Channel 3\n",
    "\n",
    "    return binary_image\n",
    "\n",
    "# Convert noisy images to binary\n",
    "binary_red_with_noise = convert_to_binary(red_with_noise)\n",
    "binary_green_with_noise = convert_to_binary(green_with_noise)\n",
    "binary_blue_with_noise = convert_to_binary(blue_with_noise)"
   ]
  },
  {
   "cell_type": "code",
   "execution_count": 54,
   "metadata": {},
   "outputs": [],
   "source": [
    "def majority_vote(bit_lists):\n",
    "    voted_binary_string = ''\n",
    "    \n",
    "    for i in range(8):\n",
    "        # Collect the specific bit from each binary string in the list at position i\n",
    "        bit_column = [bits[i] for bits in bit_lists]\n",
    "        \n",
    "        # Use a Counter to count occurrences of each bit in the current position\n",
    "        bit_counter = Counter(bit_column)\n",
    "        \n",
    "        # Find the most common bit at the current position\n",
    "        most_common_bit, _ = bit_counter.most_common(1)[0]\n",
    "        \n",
    "        voted_binary_string += most_common_bit\n",
    "\n",
    "    return voted_binary_string"
   ]
  },
  {
   "cell_type": "code",
   "execution_count": 59,
   "metadata": {},
   "outputs": [],
   "source": [
    "# Initialize the final image array\n",
    "final_image_array = np.zeros((height, width, 3), dtype=np.uint8)\n",
    "\n",
    "height, width, _ = red_with_noise.shape\n",
    "\n",
    "# Iterate over each pixel\n",
    "for i in range(height):\n",
    "    for j in range(width):\n",
    "        # Extract the list of binary strings for the current pixel from each color channel\n",
    "        red_bit_lists = binary_red_with_noise[i, j]\n",
    "        green_bit_lists = binary_green_with_noise[i, j]\n",
    "        blue_bit_lists = binary_blue_with_noise[i, j]\n",
    "        \n",
    "        # Perform majority voting for each color channel\n",
    "        red_voted_binary_string = majority_vote(red_bit_lists)\n",
    "        green_voted_binary_string = majority_vote(green_bit_lists)\n",
    "        blue_voted_binary_string = majority_vote(blue_bit_lists)\n",
    "        \n",
    "        # Convert the voted binary strings back to integers and store them in the final image array\n",
    "        final_image_array[i, j, 0] = int(red_voted_binary_string, 2)\n",
    "        final_image_array[i, j, 1] = int(green_voted_binary_string, 2)\n",
    "        final_image_array[i, j, 2] = int(blue_voted_binary_string, 2)\n"
   ]
  },
  {
   "cell_type": "code",
   "execution_count": 60,
   "metadata": {},
   "outputs": [],
   "source": [
    "# Convert the numpy array to an image and save or display it\n",
    "final_image = Image.fromarray(final_image_array, 'RGB')\n",
    "final_image.save('Corrected_Image.png')\n",
    "final_image.show()"
   ]
  }
 ],
 "metadata": {
  "kernelspec": {
   "display_name": "base",
   "language": "python",
   "name": "python3"
  },
  "language_info": {
   "codemirror_mode": {
    "name": "ipython",
    "version": 3
   },
   "file_extension": ".py",
   "mimetype": "text/x-python",
   "name": "python",
   "nbconvert_exporter": "python",
   "pygments_lexer": "ipython3",
   "version": "3.11.7"
  }
 },
 "nbformat": 4,
 "nbformat_minor": 2
}
